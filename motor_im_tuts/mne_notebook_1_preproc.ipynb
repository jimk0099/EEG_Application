{
 "cells": [
  {
   "cell_type": "code",
   "execution_count": 1,
   "id": "8389a2f2-31b8-406e-b47e-0e0dde3bf0b2",
   "metadata": {},
   "outputs": [
    {
     "name": "stdout",
     "output_type": "stream",
     "text": [
      "Requirement already satisfied: mne in /home/jimk/mne-python/1.3.0_0/lib/python3.10/site-packages (1.3.0)\n",
      "Requirement already satisfied: numpy>=1.15.4 in /home/jimk/mne-python/1.3.0_0/lib/python3.10/site-packages (from mne) (1.21.6)\n",
      "Requirement already satisfied: scipy>=1.1.0 in /home/jimk/mne-python/1.3.0_0/lib/python3.10/site-packages (from mne) (1.9.3)\n",
      "Requirement already satisfied: matplotlib in /home/jimk/mne-python/1.3.0_0/lib/python3.10/site-packages (from mne) (3.6.2)\n",
      "Requirement already satisfied: tqdm in /home/jimk/.local/lib/python3.10/site-packages (from mne) (4.64.1)\n",
      "Requirement already satisfied: pooch>=1.5 in /home/jimk/mne-python/1.3.0_0/lib/python3.10/site-packages (from mne) (1.6.0)\n",
      "Requirement already satisfied: decorator in /home/jimk/mne-python/1.3.0_0/lib/python3.10/site-packages (from mne) (5.1.1)\n",
      "Requirement already satisfied: packaging in /home/jimk/mne-python/1.3.0_0/lib/python3.10/site-packages (from mne) (22.0)\n",
      "Requirement already satisfied: jinja2 in /home/jimk/.local/lib/python3.10/site-packages (from mne) (3.1.2)\n",
      "Requirement already satisfied: appdirs>=1.3.0 in /home/jimk/mne-python/1.3.0_0/lib/python3.10/site-packages (from pooch>=1.5->mne) (1.4.4)\n",
      "Requirement already satisfied: requests>=2.19.0 in /home/jimk/mne-python/1.3.0_0/lib/python3.10/site-packages (from pooch>=1.5->mne) (2.28.1)\n",
      "Requirement already satisfied: MarkupSafe>=2.0 in /home/jimk/.local/lib/python3.10/site-packages (from jinja2->mne) (2.1.1)\n",
      "Requirement already satisfied: contourpy>=1.0.1 in /home/jimk/mne-python/1.3.0_0/lib/python3.10/site-packages (from matplotlib->mne) (1.0.6)\n",
      "Requirement already satisfied: cycler>=0.10 in /home/jimk/mne-python/1.3.0_0/lib/python3.10/site-packages (from matplotlib->mne) (0.11.0)\n",
      "Requirement already satisfied: fonttools>=4.22.0 in /home/jimk/mne-python/1.3.0_0/lib/python3.10/site-packages (from matplotlib->mne) (4.38.0)\n",
      "Requirement already satisfied: kiwisolver>=1.0.1 in /home/jimk/mne-python/1.3.0_0/lib/python3.10/site-packages (from matplotlib->mne) (1.4.4)\n",
      "Requirement already satisfied: pillow>=6.2.0 in /home/jimk/mne-python/1.3.0_0/lib/python3.10/site-packages (from matplotlib->mne) (9.2.0)\n",
      "Requirement already satisfied: pyparsing>=2.2.1 in /home/jimk/mne-python/1.3.0_0/lib/python3.10/site-packages (from matplotlib->mne) (2.4.7)\n",
      "Requirement already satisfied: python-dateutil>=2.7 in /home/jimk/mne-python/1.3.0_0/lib/python3.10/site-packages (from matplotlib->mne) (2.8.2)\n",
      "Requirement already satisfied: six>=1.5 in /home/jimk/.local/lib/python3.10/site-packages (from python-dateutil>=2.7->matplotlib->mne) (1.15.0)\n",
      "Requirement already satisfied: charset-normalizer<3,>=2 in /home/jimk/mne-python/1.3.0_0/lib/python3.10/site-packages (from requests>=2.19.0->pooch>=1.5->mne) (2.1.1)\n",
      "Requirement already satisfied: idna<4,>=2.5 in /home/jimk/mne-python/1.3.0_0/lib/python3.10/site-packages (from requests>=2.19.0->pooch>=1.5->mne) (3.4)\n",
      "Requirement already satisfied: urllib3<1.27,>=1.21.1 in /home/jimk/mne-python/1.3.0_0/lib/python3.10/site-packages (from requests>=2.19.0->pooch>=1.5->mne) (1.26.13)\n",
      "Requirement already satisfied: certifi>=2017.4.17 in /home/jimk/mne-python/1.3.0_0/lib/python3.10/site-packages (from requests>=2.19.0->pooch>=1.5->mne) (2022.12.7)\n"
     ]
    }
   ],
   "source": [
    "!pip install mne"
   ]
  },
  {
   "cell_type": "code",
   "execution_count": 2,
   "id": "f8fb48fc-cae5-4930-ae66-2ba2f15e5615",
   "metadata": {},
   "outputs": [],
   "source": [
    "%matplotlib notebook\n",
    "import mne\n",
    "import matplotlib\n",
    "import matplotlib.pyplot as plt\n",
    "import pathlib"
   ]
  },
  {
   "cell_type": "code",
   "execution_count": 3,
   "id": "b5d9c25c-4bf9-42f4-9c3f-f2df874fd9ac",
   "metadata": {},
   "outputs": [],
   "source": [
    "matplotlib.use('Qt5Agg')"
   ]
  },
  {
   "cell_type": "markdown",
   "id": "f11e536c-9f45-4b3f-b599-116901878348",
   "metadata": {},
   "source": [
    "## Read in raw data; raw objects"
   ]
  },
  {
   "cell_type": "code",
   "execution_count": 4,
   "id": "c937ce3d-d596-4abb-afea-005f33847f2b",
   "metadata": {},
   "outputs": [
    {
     "data": {
      "text/plain": [
       "PosixPath('/home/jimk/mne_data/MNE-sample-data')"
      ]
     },
     "execution_count": 4,
     "metadata": {},
     "output_type": "execute_result"
    }
   ],
   "source": [
    "sample_data_dir = mne.datasets.sample.data_path()\n",
    "\n",
    "# Convert to a pathlib.Path for more convenience\n",
    "sample_data_dir = pathlib.Path(sample_data_dir)\n",
    "sample_data_dir"
   ]
  },
  {
   "cell_type": "code",
   "execution_count": 5,
   "id": "db91d48a-72f5-42f8-86c3-ea7f00ed7a3c",
   "metadata": {},
   "outputs": [
    {
     "name": "stdout",
     "output_type": "stream",
     "text": [
      "Opening raw data file /home/jimk/mne_data/MNE-sample-data/MEG/sample/sample_audvis_raw.fif...\n",
      "    Read a total of 3 projection items:\n",
      "        PCA-v1 (1 x 102)  idle\n",
      "        PCA-v2 (1 x 102)  idle\n",
      "        PCA-v3 (1 x 102)  idle\n",
      "    Range : 25800 ... 192599 =     42.956 ...   320.670 secs\n",
      "Ready.\n",
      "Reading 0 ... 166799  =      0.000 ...   277.714 secs...\n"
     ]
    }
   ],
   "source": [
    "raw_path = sample_data_dir / 'MEG' / 'sample' / 'sample_audvis_raw.fif'\n",
    "raw = mne.io.read_raw_fif(raw_path, preload=True)"
   ]
  },
  {
   "cell_type": "markdown",
   "id": "2b0e910f-0c0d-4ca8-945e-eecfd7a1fa68",
   "metadata": {
    "tags": []
   },
   "source": [
    "#### Useful stuff\n",
    "\n",
    "dir(raw)\n",
    "\n",
    "raw.crop?"
   ]
  },
  {
   "cell_type": "code",
   "execution_count": 6,
   "id": "bcdc42e8-3de6-4751-aefa-cb51d4a6276d",
   "metadata": {},
   "outputs": [
    {
     "name": "stdout",
     "output_type": "stream",
     "text": [
      "Filtering raw data in 1 contiguous segment\n",
      "Setting up band-pass filter from 1 - 20 Hz\n",
      "\n",
      "FIR filter parameters\n",
      "---------------------\n",
      "Designing a one-pass, zero-phase, non-causal bandpass filter:\n",
      "- Windowed time-domain design (firwin) method\n",
      "- Hamming window with 0.0194 passband ripple and 53 dB stopband attenuation\n",
      "- Lower passband edge: 1.00\n",
      "- Lower transition bandwidth: 1.00 Hz (-6 dB cutoff frequency: 0.50 Hz)\n",
      "- Upper passband edge: 20.00 Hz\n",
      "- Upper transition bandwidth: 5.00 Hz (-6 dB cutoff frequency: 22.50 Hz)\n",
      "- Filter length: 1983 samples (3.302 sec)\n",
      "\n"
     ]
    },
    {
     "name": "stderr",
     "output_type": "stream",
     "text": [
      "[Parallel(n_jobs=1)]: Using backend SequentialBackend with 1 concurrent workers.\n",
      "[Parallel(n_jobs=1)]: Done   1 out of   1 | elapsed:    0.0s remaining:    0.0s\n",
      "[Parallel(n_jobs=1)]: Done   2 out of   2 | elapsed:    0.0s remaining:    0.0s\n",
      "[Parallel(n_jobs=1)]: Done   3 out of   3 | elapsed:    0.0s remaining:    0.0s\n",
      "[Parallel(n_jobs=1)]: Done   4 out of   4 | elapsed:    0.0s remaining:    0.0s\n",
      "[Parallel(n_jobs=1)]: Done 366 out of 366 | elapsed:    2.4s finished\n"
     ]
    },
    {
     "data": {
      "text/html": [
       "<table class=\"table table-hover table-striped table-sm table-responsive small\">\n",
       "    <tr>\n",
       "        <th>Measurement date</th>\n",
       "        \n",
       "        <td>December 03, 2002  19:01:10 GMT</td>\n",
       "        \n",
       "    </tr>\n",
       "    <tr>\n",
       "        <th>Experimenter</th>\n",
       "        \n",
       "        <td>MEG</td>\n",
       "        \n",
       "    </tr>\n",
       "        <th>Participant</th>\n",
       "        \n",
       "        <td>Unknown</td>\n",
       "        \n",
       "    </tr>\n",
       "    <tr>\n",
       "        <th>Digitized points</th>\n",
       "        \n",
       "        <td>146 points</td>\n",
       "        \n",
       "    </tr>\n",
       "    <tr>\n",
       "        <th>Good channels</th>\n",
       "        <td>204 Gradiometers, 102 Magnetometers, 9 Stimulus, 60 EEG, 1 EOG</td>\n",
       "    </tr>\n",
       "    <tr>\n",
       "        <th>Bad channels</th>\n",
       "        <td>MEG 2443, EEG 053</td>\n",
       "    </tr>\n",
       "    <tr>\n",
       "        <th>EOG channels</th>\n",
       "        <td>EOG 061</td>\n",
       "    </tr>\n",
       "    <tr>\n",
       "        <th>ECG channels</th>\n",
       "        <td>Not available</td>\n",
       "    \n",
       "    <tr>\n",
       "        <th>Sampling frequency</th>\n",
       "        <td>600.61 Hz</td>\n",
       "    </tr>\n",
       "    \n",
       "    \n",
       "    <tr>\n",
       "        <th>Highpass</th>\n",
       "        <td>1.00 Hz</td>\n",
       "    </tr>\n",
       "    \n",
       "    \n",
       "    <tr>\n",
       "        <th>Lowpass</th>\n",
       "        <td>20.00 Hz</td>\n",
       "    </tr>\n",
       "    \n",
       "    \n",
       "    <tr>\n",
       "        <th>Projections</th>\n",
       "        <td>PCA-v1 : off<br/>PCA-v2 : off<br/>PCA-v3 : off</td>\n",
       "    </tr>\n",
       "    \n",
       "    \n",
       "    <tr>\n",
       "        <th>Filenames</th>\n",
       "        <td>sample_audvis_raw.fif</td>\n",
       "    </tr>\n",
       "    \n",
       "    <tr>\n",
       "        <th>Duration</th>\n",
       "        <td>00:04:38 (HH:MM:SS)</td>\n",
       "    </tr>\n",
       "</table>"
      ],
      "text/plain": [
       "<Raw | sample_audvis_raw.fif, 376 x 166800 (277.7 s), ~481.8 MB, data loaded>"
      ]
     },
     "execution_count": 6,
     "metadata": {},
     "output_type": "execute_result"
    }
   ],
   "source": [
    "raw.filter(1,20)"
   ]
  },
  {
   "cell_type": "code",
   "execution_count": 7,
   "id": "fdc3abb9-ac39-4e7b-9b90-8866d35b6a0e",
   "metadata": {},
   "outputs": [
    {
     "name": "stdout",
     "output_type": "stream",
     "text": [
      "Removing projector <Projection | PCA-v1, active : False, n_channels : 102>\n",
      "Removing projector <Projection | PCA-v2, active : False, n_channels : 102>\n",
      "Removing projector <Projection | PCA-v3, active : False, n_channels : 102>\n"
     ]
    },
    {
     "data": {
      "text/html": [
       "<table class=\"table table-hover table-striped table-sm table-responsive small\">\n",
       "    <tr>\n",
       "        <th>Measurement date</th>\n",
       "        \n",
       "        <td>December 03, 2002  19:01:10 GMT</td>\n",
       "        \n",
       "    </tr>\n",
       "    <tr>\n",
       "        <th>Experimenter</th>\n",
       "        \n",
       "        <td>MEG</td>\n",
       "        \n",
       "    </tr>\n",
       "        <th>Participant</th>\n",
       "        \n",
       "        <td>Unknown</td>\n",
       "        \n",
       "    </tr>\n",
       "    <tr>\n",
       "        <th>Digitized points</th>\n",
       "        \n",
       "        <td>146 points</td>\n",
       "        \n",
       "    </tr>\n",
       "    <tr>\n",
       "        <th>Good channels</th>\n",
       "        <td>9 Stimulus, 59 EEG</td>\n",
       "    </tr>\n",
       "    <tr>\n",
       "        <th>Bad channels</th>\n",
       "        <td>None</td>\n",
       "    </tr>\n",
       "    <tr>\n",
       "        <th>EOG channels</th>\n",
       "        <td>Not available</td>\n",
       "    </tr>\n",
       "    <tr>\n",
       "        <th>ECG channels</th>\n",
       "        <td>Not available</td>\n",
       "    \n",
       "    <tr>\n",
       "        <th>Sampling frequency</th>\n",
       "        <td>600.61 Hz</td>\n",
       "    </tr>\n",
       "    \n",
       "    \n",
       "    <tr>\n",
       "        <th>Highpass</th>\n",
       "        <td>1.00 Hz</td>\n",
       "    </tr>\n",
       "    \n",
       "    \n",
       "    <tr>\n",
       "        <th>Lowpass</th>\n",
       "        <td>20.00 Hz</td>\n",
       "    </tr>\n",
       "    \n",
       "    \n",
       "    \n",
       "    <tr>\n",
       "        <th>Filenames</th>\n",
       "        <td>sample_audvis_raw.fif</td>\n",
       "    </tr>\n",
       "    \n",
       "    <tr>\n",
       "        <th>Duration</th>\n",
       "        <td>00:04:38 (HH:MM:SS)</td>\n",
       "    </tr>\n",
       "</table>"
      ],
      "text/plain": [
       "<Raw | sample_audvis_raw.fif, 68 x 166800 (277.7 s), ~89.5 MB, data loaded>"
      ]
     },
     "execution_count": 7,
     "metadata": {},
     "output_type": "execute_result"
    }
   ],
   "source": [
    "# Pick only EEG channels and EOG\n",
    "raw.pick_types(eeg=True, stim=True)#, eog=True)"
   ]
  },
  {
   "cell_type": "code",
   "execution_count": 8,
   "id": "9754ea02-20f4-4809-a74b-d05636cb03e4",
   "metadata": {},
   "outputs": [
    {
     "name": "stdout",
     "output_type": "stream",
     "text": [
      "Using qt as 2D backend.\n"
     ]
    },
    {
     "name": "stderr",
     "output_type": "stream",
     "text": [
      "Warning: Ignoring XDG_SESSION_TYPE=wayland on Gnome. Use QT_QPA_PLATFORM=wayland to run on Wayland anyway.\n"
     ]
    },
    {
     "data": {
      "text/plain": [
       "<mne_qt_browser._pg_figure.MNEQtBrowser at 0x7f14062769e0>"
      ]
     },
     "execution_count": 8,
     "metadata": {},
     "output_type": "execute_result"
    }
   ],
   "source": [
    "raw.plot()"
   ]
  },
  {
   "cell_type": "code",
   "execution_count": 9,
   "id": "d83933c1-97bb-4d88-9bdc-e030cdb8fcd8",
   "metadata": {},
   "outputs": [],
   "source": [
    "ica = mne.preprocessing.ICA(n_components=20, random_state=0)"
   ]
  },
  {
   "cell_type": "code",
   "execution_count": 10,
   "id": "81b24dc2-4698-4c18-aa1f-ccb2cf23fa12",
   "metadata": {},
   "outputs": [
    {
     "name": "stdout",
     "output_type": "stream",
     "text": [
      "Filtering raw data in 1 contiguous segment\n",
      "Setting up band-pass filter from 8 - 35 Hz\n",
      "\n",
      "FIR filter parameters\n",
      "---------------------\n",
      "Designing a one-pass, zero-phase, non-causal bandpass filter:\n",
      "- Windowed time-domain design (firwin) method\n",
      "- Hamming window with 0.0194 passband ripple and 53 dB stopband attenuation\n",
      "- Lower passband edge: 8.00\n",
      "- Lower transition bandwidth: 2.00 Hz (-6 dB cutoff frequency: 7.00 Hz)\n",
      "- Upper passband edge: 35.00 Hz\n",
      "- Upper transition bandwidth: 8.75 Hz (-6 dB cutoff frequency: 39.38 Hz)\n",
      "- Filter length: 993 samples (1.653 sec)\n",
      "\n"
     ]
    },
    {
     "name": "stderr",
     "output_type": "stream",
     "text": [
      "[Parallel(n_jobs=1)]: Using backend SequentialBackend with 1 concurrent workers.\n",
      "[Parallel(n_jobs=1)]: Done   1 out of   1 | elapsed:    0.0s remaining:    0.0s\n",
      "[Parallel(n_jobs=1)]: Done   2 out of   2 | elapsed:    0.1s remaining:    0.0s\n",
      "[Parallel(n_jobs=1)]: Done   3 out of   3 | elapsed:    0.1s remaining:    0.0s\n",
      "[Parallel(n_jobs=1)]: Done   4 out of   4 | elapsed:    0.1s remaining:    0.0s\n"
     ]
    },
    {
     "name": "stdout",
     "output_type": "stream",
     "text": [
      "Fitting ICA to data using 59 channels (please be patient, this may take a while)\n"
     ]
    },
    {
     "name": "stderr",
     "output_type": "stream",
     "text": [
      "[Parallel(n_jobs=1)]: Done  59 out of  59 | elapsed:    0.7s finished\n"
     ]
    },
    {
     "name": "stdout",
     "output_type": "stream",
     "text": [
      "Selecting by number: 20 components\n",
      "Fitting ICA took 16.4s.\n"
     ]
    },
    {
     "data": {
      "text/html": [
       "<table class=\"table table-hover table-striped table-sm table-responsive small\">\n",
       "    <tr>\n",
       "        <th>Method</th>\n",
       "        <td>fastica</td>\n",
       "    </tr>\n",
       "    <tr>\n",
       "        <th>Fit</th>\n",
       "        <td>52 iterations on raw data (166800 samples)</td>\n",
       "    </tr>\n",
       "    \n",
       "    <tr>\n",
       "        <th>ICA components</th>\n",
       "        <td>20</td>\n",
       "    </tr>\n",
       "    <tr>\n",
       "        <th>Available PCA components</th>\n",
       "        <td>59</td>\n",
       "    </tr>\n",
       "    <tr>\n",
       "        <th>Channel types</th>\n",
       "        <td>eeg</td>\n",
       "    </tr>\n",
       "    <tr>\n",
       "        <th>ICA components marked for exclusion</th>\n",
       "        <td>&mdash;</td>\n",
       "    </tr>\n",
       "    \n",
       "</table>"
      ],
      "text/plain": [
       "<ICA | raw data decomposition, method: fastica (fit in 52 iterations on 166800 samples), 20 ICA components (59 PCA components available), channel types: eeg, no sources marked for exclusion>"
      ]
     },
     "execution_count": 10,
     "metadata": {},
     "output_type": "execute_result"
    }
   ],
   "source": [
    "ica.fit(raw.copy().filter(8,35))"
   ]
  },
  {
   "cell_type": "code",
   "execution_count": 11,
   "id": "1c2fad9a-6282-4b2d-9ea3-c75d55bd2724",
   "metadata": {},
   "outputs": [
    {
     "data": {
      "text/plain": [
       "[<MNEFigure size 975x967 with 20 Axes>]"
      ]
     },
     "execution_count": 11,
     "metadata": {},
     "output_type": "execute_result"
    }
   ],
   "source": [
    "ica.plot_components()"
   ]
  },
  {
   "cell_type": "code",
   "execution_count": 12,
   "id": "c46e846d-e899-4b99-9e2b-c7b24f3582c6",
   "metadata": {},
   "outputs": [],
   "source": [
    "# Store bad components in ica object\n",
    "ica.exclude = [7, 14, 16, 17, 18, 19]"
   ]
  },
  {
   "cell_type": "code",
   "execution_count": 13,
   "id": "f1e27ad0-ef7b-4383-8f07-07fb2a97987a",
   "metadata": {},
   "outputs": [],
   "source": [
    "# or even use automatic algorithm\n",
    "#bad_idx, scores = ica.find_bads_eog(raw, 'EOG 061', threshold=2)\n",
    "#print(bad_idx)"
   ]
  },
  {
   "cell_type": "code",
   "execution_count": 14,
   "id": "dace32c6-2d13-4f1e-9880-2a6c8ffb392a",
   "metadata": {},
   "outputs": [
    {
     "name": "stdout",
     "output_type": "stream",
     "text": [
      "Applying ICA to Raw instance\n",
      "    Transforming to ICA space (20 components)\n",
      "    Zeroing out 6 ICA components\n",
      "    Projecting back using 59 PCA components\n"
     ]
    },
    {
     "data": {
      "text/plain": [
       "<mne_qt_browser._pg_figure.MNEQtBrowser at 0x7f13beed1480>"
      ]
     },
     "execution_count": 14,
     "metadata": {},
     "output_type": "execute_result"
    }
   ],
   "source": [
    "# filtered data\n",
    "ica.apply(raw.copy(), exclude=ica.exclude).plot()"
   ]
  },
  {
   "cell_type": "markdown",
   "id": "077d5bff-6a43-4f8d-8641-6db5de08db10",
   "metadata": {},
   "source": [
    "## Epochs"
   ]
  },
  {
   "cell_type": "code",
   "execution_count": 15,
   "id": "ab8f19bc-c5a8-4c66-ad33-1e0267111284",
   "metadata": {},
   "outputs": [
    {
     "name": "stdout",
     "output_type": "stream",
     "text": [
      "320 events found\n",
      "Event IDs: [ 1  2  3  4  5 32]\n"
     ]
    }
   ],
   "source": [
    "# find events based on stimulus channels\n",
    "events = mne.find_events(raw)"
   ]
  },
  {
   "cell_type": "code",
   "execution_count": 16,
   "id": "6863ae58-e7b0-4282-8575-1c0874ef7b6c",
   "metadata": {
    "collapsed": true,
    "jupyter": {
     "outputs_hidden": true
    },
    "tags": []
   },
   "outputs": [
    {
     "data": {
      "text/plain": [
       "array([[ 27977,      0,      2],\n",
       "       [ 28345,      0,      3],\n",
       "       [ 28771,      0,      1],\n",
       "       [ 29219,      0,      4],\n",
       "       [ 29652,      0,      2],\n",
       "       [ 30025,      0,      3],\n",
       "       [ 30450,      0,      1],\n",
       "       [ 30839,      0,      4],\n",
       "       [ 31240,      0,      2],\n",
       "       [ 31665,      0,      3],\n",
       "       [ 32101,      0,      1],\n",
       "       [ 32519,      0,      4],\n",
       "       [ 32935,      0,      2],\n",
       "       [ 33325,      0,      3],\n",
       "       [ 33712,      0,      1],\n",
       "       [ 34089,      0,      5],\n",
       "       [ 34532,      0,      2],\n",
       "       [ 34649,      0,     32],\n",
       "       [ 34956,      0,      3],\n",
       "       [ 35428,      0,      1],\n",
       "       [ 35850,      0,      4],\n",
       "       [ 36211,      0,      2],\n",
       "       [ 36576,      0,      3],\n",
       "       [ 37007,      0,      1],\n",
       "       [ 37460,      0,      4],\n",
       "       [ 37910,      0,      2],\n",
       "       [ 38326,      0,      3],\n",
       "       [ 38711,      0,      1],\n",
       "       [ 39130,      0,      4],\n",
       "       [ 39563,      0,      2],\n",
       "       [ 39926,      0,      3],\n",
       "       [ 40405,      0,      1],\n",
       "       [ 40880,      0,      4],\n",
       "       [ 41260,      0,      2],\n",
       "       [ 41646,      0,      3],\n",
       "       [ 42126,      0,      1],\n",
       "       [ 42598,      0,      5],\n",
       "       [ 42938,      0,     32],\n",
       "       [ 42960,      0,      2],\n",
       "       [ 43346,      0,      3],\n",
       "       [ 43781,      0,      1],\n",
       "       [ 44170,      0,      4],\n",
       "       [ 44649,      0,      2],\n",
       "       [ 45115,      0,      3],\n",
       "       [ 45486,      0,      1],\n",
       "       [ 45860,      0,      4],\n",
       "       [ 46240,      0,      2],\n",
       "       [ 46686,      0,      3],\n",
       "       [ 47095,      0,      1],\n",
       "       [ 47530,      0,      4],\n",
       "       [ 47895,      0,      2],\n",
       "       [ 48287,      0,      3],\n",
       "       [ 48722,      0,      1],\n",
       "       [ 49101,      0,      4],\n",
       "       [ 49469,      0,      2],\n",
       "       [ 49897,      0,      3],\n",
       "       [ 50269,      0,      1],\n",
       "       [ 50682,      0,      4],\n",
       "       [ 51046,      0,      2],\n",
       "       [ 51437,      0,      5],\n",
       "       [ 51803,      0,     32],\n",
       "       [ 51881,      0,      1],\n",
       "       [ 52252,      0,      4],\n",
       "       [ 52675,      0,      2],\n",
       "       [ 53118,      0,      3],\n",
       "       [ 53494,      0,      1],\n",
       "       [ 53912,      0,      4],\n",
       "       [ 54320,      0,      2],\n",
       "       [ 54699,      0,      3],\n",
       "       [ 55100,      0,      1],\n",
       "       [ 55463,      0,      4],\n",
       "       [ 55878,      0,      2],\n",
       "       [ 56269,      0,      3],\n",
       "       [ 56717,      0,      1],\n",
       "       [ 57183,      0,      4],\n",
       "       [ 57612,      0,      2],\n",
       "       [ 58079,      0,      3],\n",
       "       [ 58448,      0,      1],\n",
       "       [ 58913,      0,      4],\n",
       "       [ 59320,      0,      5],\n",
       "       [ 59677,      0,     32],\n",
       "       [ 59739,      0,      3],\n",
       "       [ 60129,      0,      1],\n",
       "       [ 60563,      0,      4],\n",
       "       [ 61035,      0,      2],\n",
       "       [ 61458,      0,      3],\n",
       "       [ 61868,      0,      1],\n",
       "       [ 62283,      0,      4],\n",
       "       [ 62682,      0,      2],\n",
       "       [ 63069,      0,      3],\n",
       "       [ 63532,      0,      1],\n",
       "       [ 63923,      0,      4],\n",
       "       [ 64387,      0,      2],\n",
       "       [ 64769,      0,      3],\n",
       "       [ 65181,      0,      1],\n",
       "       [ 65643,      0,      4],\n",
       "       [ 66071,      0,      2],\n",
       "       [ 66538,      0,      3],\n",
       "       [ 66964,      0,      1],\n",
       "       [ 67401,      0,      5],\n",
       "       [ 67782,      0,     32],\n",
       "       [ 67811,      0,      2],\n",
       "       [ 68198,      0,      3],\n",
       "       [ 68666,      0,      1],\n",
       "       [ 69063,      0,      4],\n",
       "       [ 69458,      0,      2],\n",
       "       [ 69859,      0,      3],\n",
       "       [ 70259,      0,      1],\n",
       "       [ 70663,      0,      4],\n",
       "       [ 71128,      0,      2],\n",
       "       [ 71608,      0,      3],\n",
       "       [ 71991,      0,      1],\n",
       "       [ 72442,      0,      4],\n",
       "       [ 72824,      0,      2],\n",
       "       [ 73258,      0,      3],\n",
       "       [ 73718,      0,      1],\n",
       "       [ 74172,      0,      4],\n",
       "       [ 74540,      0,      2],\n",
       "       [ 74919,      0,      3],\n",
       "       [ 75305,      0,      5],\n",
       "       [ 75624,      0,     32],\n",
       "       [ 75724,      0,      4],\n",
       "       [ 76086,      0,      2],\n",
       "       [ 76479,      0,      3],\n",
       "       [ 76894,      0,      1],\n",
       "       [ 77304,      0,      4],\n",
       "       [ 77682,      0,      2],\n",
       "       [ 78130,      0,      3],\n",
       "       [ 78539,      0,      1],\n",
       "       [ 78934,      0,      4],\n",
       "       [ 79361,      0,      2],\n",
       "       [ 79819,      0,      3],\n",
       "       [ 80209,      0,      1],\n",
       "       [ 80624,      0,      4],\n",
       "       [ 81017,      0,      2],\n",
       "       [ 81440,      0,      3],\n",
       "       [ 81911,      0,      1],\n",
       "       [ 82334,      0,      4],\n",
       "       [ 82715,      0,      2],\n",
       "       [ 83150,      0,      3],\n",
       "       [ 83568,      0,      1],\n",
       "       [ 83984,      0,      4],\n",
       "       [ 84446,      0,      2],\n",
       "       [ 84898,      0,      5],\n",
       "       [ 85111,      0,     32],\n",
       "       [ 85299,      0,      1],\n",
       "       [ 85664,      0,      4],\n",
       "       [ 86107,      0,      2],\n",
       "       [ 86520,      0,      3],\n",
       "       [ 86971,      0,      1],\n",
       "       [ 87354,      0,      4],\n",
       "       [ 87724,      0,      2],\n",
       "       [ 88150,      0,      3],\n",
       "       [ 88593,      0,      1],\n",
       "       [ 89024,      0,      4],\n",
       "       [ 89496,      0,      2],\n",
       "       [ 89949,      0,      3],\n",
       "       [ 90419,      0,      1],\n",
       "       [ 90813,      0,      4],\n",
       "       [ 91194,      0,      2],\n",
       "       [ 91600,      0,      3],\n",
       "       [ 92038,      0,      1],\n",
       "       [ 92414,      0,      4],\n",
       "       [ 92801,      0,      5],\n",
       "       [ 93018,      0,     32],\n",
       "       [ 93270,      0,      3],\n",
       "       [ 93669,      0,      1],\n",
       "       [ 94094,      0,      4],\n",
       "       [ 94541,      0,      2],\n",
       "       [ 94960,      0,      3],\n",
       "       [ 95435,      0,      1],\n",
       "       [ 95883,      0,      4],\n",
       "       [ 96329,      0,      2],\n",
       "       [ 96789,      0,      3],\n",
       "       [ 97234,      0,      1],\n",
       "       [ 97703,      0,      4],\n",
       "       [ 98113,      0,      2],\n",
       "       [ 98499,      0,      3],\n",
       "       [ 98903,      0,      1],\n",
       "       [ 99363,      0,      4],\n",
       "       [ 99795,      0,      2],\n",
       "       [100159,      0,      3],\n",
       "       [100620,      0,      1],\n",
       "       [101091,      0,      5],\n",
       "       [101468,      0,      2],\n",
       "       [101540,      0,     32],\n",
       "       [101908,      0,      3],\n",
       "       [102288,      0,      1],\n",
       "       [102713,      0,      4],\n",
       "       [103192,      0,      2],\n",
       "       [103588,      0,      3],\n",
       "       [104033,      0,      1],\n",
       "       [104433,      0,      4],\n",
       "       [104909,      0,      2],\n",
       "       [105348,      0,      3],\n",
       "       [105760,      0,      1],\n",
       "       [106172,      0,      4],\n",
       "       [106620,      0,      2],\n",
       "       [106988,      0,      3],\n",
       "       [107355,      0,      1],\n",
       "       [107743,      0,      4],\n",
       "       [108170,      0,      2],\n",
       "       [108619,      0,      3],\n",
       "       [108975,      0,      5],\n",
       "       [109324,      0,     32],\n",
       "       [109364,      0,      4],\n",
       "       [109741,      0,      2],\n",
       "       [110209,      0,      3],\n",
       "       [110574,      0,      1],\n",
       "       [111004,      0,      4],\n",
       "       [111440,      0,      2],\n",
       "       [111839,      0,      3],\n",
       "       [112292,      0,      1],\n",
       "       [112743,      0,      4],\n",
       "       [113140,      0,      2],\n",
       "       [113589,      0,      3],\n",
       "       [113952,      0,      1],\n",
       "       [114324,      0,      4],\n",
       "       [114740,      0,      2],\n",
       "       [115160,      0,      3],\n",
       "       [115619,      0,      1],\n",
       "       [116083,      0,      4],\n",
       "       [116527,      0,      2],\n",
       "       [116929,      0,      3],\n",
       "       [117304,      0,      1],\n",
       "       [117714,      0,      4],\n",
       "       [118101,      0,      5],\n",
       "       [118369,      0,     32],\n",
       "       [118480,      0,      3],\n",
       "       [118879,      0,      1],\n",
       "       [119235,      0,      4],\n",
       "       [119696,      0,      2],\n",
       "       [120110,      0,      3],\n",
       "       [120539,      0,      1],\n",
       "       [120984,      0,      4],\n",
       "       [121392,      0,      2],\n",
       "       [121800,      0,      3],\n",
       "       [122218,      0,      1],\n",
       "       [122684,      0,      4],\n",
       "       [123065,      0,      2],\n",
       "       [123451,      0,      3],\n",
       "       [123931,      0,      1],\n",
       "       [124404,      0,      4],\n",
       "       [124830,      0,      2],\n",
       "       [125300,      0,      3],\n",
       "       [125709,      0,      1],\n",
       "       [126123,      0,      5],\n",
       "       [126470,      0,     32],\n",
       "       [126546,      0,      2],\n",
       "       [126950,      0,      3],\n",
       "       [127331,      0,      1],\n",
       "       [127705,      0,      4],\n",
       "       [128075,      0,      2],\n",
       "       [128511,      0,      3],\n",
       "       [128925,      0,      1],\n",
       "       [129285,      0,      4],\n",
       "       [129732,      0,      2],\n",
       "       [130111,      0,      3],\n",
       "       [130495,      0,      1],\n",
       "       [130876,      0,      4],\n",
       "       [131253,      0,      2],\n",
       "       [131672,      0,      3],\n",
       "       [132081,      0,      1],\n",
       "       [132556,      0,      4],\n",
       "       [132974,      0,      2],\n",
       "       [133451,      0,      3],\n",
       "       [133927,      0,      5],\n",
       "       [134287,      0,     32],\n",
       "       [134316,      0,      4],\n",
       "       [134729,      0,      2],\n",
       "       [135101,      0,      3],\n",
       "       [135533,      0,      1],\n",
       "       [135916,      0,      4],\n",
       "       [136285,      0,      2],\n",
       "       [136722,      0,      3],\n",
       "       [137133,      0,      1],\n",
       "       [137576,      0,      4],\n",
       "       [137993,      0,      2],\n",
       "       [138412,      0,      3],\n",
       "       [138836,      0,      1],\n",
       "       [139306,      0,      4],\n",
       "       [139737,      0,      2],\n",
       "       [140191,      0,      3],\n",
       "       [140612,      0,      1],\n",
       "       [141085,      0,      4],\n",
       "       [141562,      0,      2],\n",
       "       [141981,      0,      3],\n",
       "       [142446,      0,      5],\n",
       "       [142815,      0,     32],\n",
       "       [142826,      0,      4],\n",
       "       [143218,      0,      2],\n",
       "       [143671,      0,      3],\n",
       "       [144071,      0,      1],\n",
       "       [144545,      0,      4],\n",
       "       [144916,      0,      2],\n",
       "       [145291,      0,      3],\n",
       "       [145666,      0,      1],\n",
       "       [146085,      0,      4],\n",
       "       [146545,      0,      2],\n",
       "       [147011,      0,      3],\n",
       "       [147458,      0,      1],\n",
       "       [147855,      0,      4],\n",
       "       [148304,      0,      2],\n",
       "       [148721,      0,      3],\n",
       "       [149162,      0,      1],\n",
       "       [149555,      0,      4],\n",
       "       [149989,      0,      2],\n",
       "       [150430,      0,      3],\n",
       "       [150872,      0,      1],\n",
       "       [151265,      0,      4],\n",
       "       [151626,      0,      2],\n",
       "       [152030,      0,      5],\n",
       "       [152336,      0,     32],\n",
       "       [152426,      0,      1],\n",
       "       [152825,      0,      4],\n",
       "       [153211,      0,      2],\n",
       "       [153681,      0,      3],\n",
       "       [154080,      0,      1],\n",
       "       [154486,      0,      4],\n",
       "       [168672,      0,     32]])"
      ]
     },
     "execution_count": 16,
     "metadata": {},
     "output_type": "execute_result"
    }
   ],
   "source": [
    "events #[time, xxx, ID]"
   ]
  },
  {
   "cell_type": "code",
   "execution_count": 17,
   "id": "3fd884d5-101e-4756-8bbf-890c046fd0e8",
   "metadata": {},
   "outputs": [
    {
     "data": {
      "image/png": "[encoded data removed]",
      "text/plain": [
       "<Figure size 640x480 with 1 Axes>"
      ]
     },
     "execution_count": 17,
     "metadata": {},
     "output_type": "execute_result"
    }
   ],
   "source": [
    "mne.viz.plot_events(events)"
   ]
  },
  {
   "cell_type": "code",
   "execution_count": 18,
   "id": "8daa51f1-54a9-4177-8c60-ac6949c0b4c6",
   "metadata": {},
   "outputs": [
    {
     "name": "stdout",
     "output_type": "stream",
     "text": [
      "Not setting metadata\n",
      "320 matching events found\n",
      "Setting baseline interval to [-0.19979521315838786, 0.0] sec\n",
      "Applying baseline correction (mode: mean)\n",
      "0 projection items activated\n"
     ]
    }
   ],
   "source": [
    "event_ids = {\n",
    "    'Auditory/Left': 1,\n",
    "    'Auditory/Right': 2,\n",
    "    'Visual/Left': 3,\n",
    "    'Visual/Right': 4,\n",
    "    'Smiley': 5,\n",
    "    'Button': 32\n",
    "}\n",
    "\n",
    "epochs = mne.Epochs(raw, events, event_id=event_ids)"
   ]
  },
  {
   "cell_type": "code",
   "execution_count": 34,
   "id": "d198b28a-e4ed-4f62-b0f4-961272772fe8",
   "metadata": {},
   "outputs": [
    {
     "name": "stdout",
     "output_type": "stream",
     "text": [
      "You seem to have overlapping epochs. Some event lines may be duplicated in the plot.\n"
     ]
    },
    {
     "data": {
      "text/plain": [
       "<mne_qt_browser._pg_figure.MNEQtBrowser at 0x7f14043c84c0>"
      ]
     },
     "execution_count": 34,
     "metadata": {},
     "output_type": "execute_result"
    },
    {
     "name": "stdout",
     "output_type": "stream",
     "text": [
      "Dropped 0 epochs: \n",
      "The following epochs were marked as bad and are dropped:\n",
      "[]\n",
      "Channels marked as bad:\n",
      "none\n",
      "Dropped 1 epoch: 56\n",
      "The following epochs were marked as bad and are dropped:\n",
      "[56]\n",
      "Channels marked as bad:\n",
      "none\n",
      "Dropped 0 epochs: \n",
      "The following epochs were marked as bad and are dropped:\n",
      "[]\n",
      "Channels marked as bad:\n",
      "none\n"
     ]
    }
   ],
   "source": [
    "epochs.plot(events=events, event_id=event_ids)"
   ]
  },
  {
   "cell_type": "code",
   "execution_count": 20,
   "id": "2374658e-3dc8-49ac-8bb1-3bb00fe8d1fb",
   "metadata": {},
   "outputs": [
    {
     "name": "stdout",
     "output_type": "stream",
     "text": [
      "Not setting metadata\n",
      "320 matching events found\n",
      "Setting baseline interval to [-0.19979521315838786, 0.0] sec\n",
      "Applying baseline correction (mode: mean)\n",
      "0 projection items activated\n",
      "Using data from preloaded Raw for 320 events and 421 original time points ...\n",
      "0 bad epochs dropped\n",
      "Applying ICA to Epochs instance\n",
      "    Transforming to ICA space (20 components)\n",
      "    Zeroing out 6 ICA components\n",
      "    Projecting back using 59 PCA components\n"
     ]
    },
    {
     "name": "stderr",
     "output_type": "stream",
     "text": [
      "/tmp/ipykernel_7364/930629000.py:2: RuntimeWarning: The data you passed to ICA.apply() was baseline-corrected. Please note that ICA can introduce DC shifts, therefore you may wish to consider baseline-correcting the cleaned data again.\n",
      "  epochs = ica.apply(epochs, exclude=ica.exclude)\n"
     ]
    }
   ],
   "source": [
    "epochs = mne.Epochs(raw, events, event_id=event_ids, preload=True)\n",
    "epochs = ica.apply(epochs, exclude=ica.exclude)"
   ]
  },
  {
   "cell_type": "code",
   "execution_count": 21,
   "id": "adbd5bae-3f36-408d-85a8-b4bd413b7026",
   "metadata": {},
   "outputs": [
    {
     "name": "stdout",
     "output_type": "stream",
     "text": [
      "Applying baseline correction (mode: mean)\n"
     ]
    },
    {
     "data": {
      "text/html": [
       "<table class=\"table table-hover table-striped table-sm table-responsive small\">\n",
       "    <tr>\n",
       "        <th>Number of events</th>\n",
       "        <td>320</td>\n",
       "    </tr>\n",
       "    <tr>\n",
       "        <th>Events</th>\n",
       "        \n",
       "        <td>Auditory/Left: 72<br/>Auditory/Right: 73<br/>Button: 16<br/>Smiley: 15<br/>Visual/Left: 73<br/>Visual/Right: 71</td>\n",
       "        \n",
       "    </tr>\n",
       "    <tr>\n",
       "        <th>Time range</th>\n",
       "        <td>-0.200 – 0.499 sec</td>\n",
       "    </tr>\n",
       "    <tr>\n",
       "        <th>Baseline</th>\n",
       "        <td>-0.200 – 0.000 sec</td>\n",
       "    </tr>\n",
       "</table>"
      ],
      "text/plain": [
       "<Epochs |  320 events (all good), -0.199795 - 0.499488 sec, baseline -0.199795 – 0 sec, ~72.9 MB, data loaded,\n",
       " 'Auditory/Left': 72\n",
       " 'Auditory/Right': 73\n",
       " 'Visual/Left': 73\n",
       " 'Visual/Right': 71\n",
       " 'Smiley': 15\n",
       " 'Button': 16>"
      ]
     },
     "execution_count": 21,
     "metadata": {},
     "output_type": "execute_result"
    }
   ],
   "source": [
    "epochs.apply_baseline((None, 0))"
   ]
  },
  {
   "cell_type": "code",
   "execution_count": 22,
   "id": "f6ba64e0-7fab-43cb-a6a1-0a997cd121c4",
   "metadata": {},
   "outputs": [
    {
     "data": {
      "text/html": [
       "<table class=\"table table-hover table-striped table-sm table-responsive small\">\n",
       "    <tr>\n",
       "        <th>Number of events</th>\n",
       "        <td>145</td>\n",
       "    </tr>\n",
       "    <tr>\n",
       "        <th>Events</th>\n",
       "        \n",
       "        <td>Auditory/Left: 72<br/>Auditory/Right: 73</td>\n",
       "        \n",
       "    </tr>\n",
       "    <tr>\n",
       "        <th>Time range</th>\n",
       "        <td>-0.200 – 0.499 sec</td>\n",
       "    </tr>\n",
       "    <tr>\n",
       "        <th>Baseline</th>\n",
       "        <td>-0.200 – 0.000 sec</td>\n",
       "    </tr>\n",
       "</table>"
      ],
      "text/plain": [
       "<Epochs |  145 events (all good), -0.199795 - 0.499488 sec, baseline -0.199795 – 0 sec, ~34.6 MB, data loaded,\n",
       " 'Auditory/Left': 72\n",
       " 'Auditory/Right': 73>"
      ]
     },
     "execution_count": 22,
     "metadata": {},
     "output_type": "execute_result"
    }
   ],
   "source": [
    "epochs['Auditory']"
   ]
  },
  {
   "cell_type": "code",
   "execution_count": 23,
   "id": "c2404339-3bbc-46ef-bddb-9b9aaea8ad50",
   "metadata": {},
   "outputs": [
    {
     "data": {
      "text/html": [
       "<table class=\"table table-hover table-striped table-sm table-responsive small\">\n",
       "    <tr>\n",
       "        <th>Measurement date</th>\n",
       "        \n",
       "        <td>Δεκεμβρίου 03, 2002  19:01:10 GMT</td>\n",
       "        \n",
       "    </tr>\n",
       "    <tr>\n",
       "        <th>Experimenter</th>\n",
       "        \n",
       "        <td>MEG</td>\n",
       "        \n",
       "    </tr>\n",
       "        <th>Participant</th>\n",
       "        \n",
       "        <td>Unknown</td>\n",
       "        \n",
       "    </tr>\n",
       "    <tr>\n",
       "        <th>Digitized points</th>\n",
       "        \n",
       "        <td>146 points</td>\n",
       "        \n",
       "    </tr>\n",
       "    <tr>\n",
       "        <th>Good channels</th>\n",
       "        <td>9 Stimulus, 59 EEG</td>\n",
       "    </tr>\n",
       "    <tr>\n",
       "        <th>Bad channels</th>\n",
       "        <td>None</td>\n",
       "    </tr>\n",
       "    <tr>\n",
       "        <th>EOG channels</th>\n",
       "        <td>Not available</td>\n",
       "    </tr>\n",
       "    <tr>\n",
       "        <th>ECG channels</th>\n",
       "        <td>Not available</td>\n",
       "    \n",
       "    <tr>\n",
       "        <th>Sampling frequency</th>\n",
       "        <td>600.61 Hz</td>\n",
       "    </tr>\n",
       "    \n",
       "    \n",
       "    <tr>\n",
       "        <th>Highpass</th>\n",
       "        <td>1.00 Hz</td>\n",
       "    </tr>\n",
       "    \n",
       "    \n",
       "    <tr>\n",
       "        <th>Lowpass</th>\n",
       "        <td>20.00 Hz</td>\n",
       "    </tr>\n",
       "    \n",
       "    \n",
       "</table>"
      ],
      "text/plain": [
       "<Info | 19 non-empty values\n",
       " acq_pars: ACQch001 110113 ACQch002 110112 ACQch003 110111 ACQch004 110122 ...\n",
       " bads: []\n",
       " ch_names: STI 001, STI 002, STI 003, STI 004, STI 005, STI 006, STI 014, ...\n",
       " chs: 9 Stimulus, 59 EEG\n",
       " custom_ref_applied: False\n",
       " description: acquisition (megacq) VectorView system at NMR-MGH\n",
       " dev_head_t: MEG device -> head transform\n",
       " dig: 146 items (3 Cardinal, 4 HPI, 61 EEG, 78 Extra)\n",
       " events: 1 item (list)\n",
       " experimenter: MEG\n",
       " file_id: 4 items (dict)\n",
       " highpass: 1.0 Hz\n",
       " hpi_meas: 1 item (list)\n",
       " hpi_results: 1 item (list)\n",
       " lowpass: 20.0 Hz\n",
       " meas_date: 2002-12-03 19:01:10 UTC\n",
       " meas_id: 4 items (dict)\n",
       " nchan: 68\n",
       " proj_id: 1 item (ndarray)\n",
       " proj_name: test\n",
       " projs: []\n",
       " sfreq: 600.6 Hz\n",
       ">"
      ]
     },
     "execution_count": 23,
     "metadata": {},
     "output_type": "execute_result"
    }
   ],
   "source": [
    "epochs.info"
   ]
  },
  {
   "cell_type": "code",
   "execution_count": 24,
   "id": "f9ad7cfc-72d4-4c06-bc67-6bd63d69200c",
   "metadata": {},
   "outputs": [
    {
     "name": "stdout",
     "output_type": "stream",
     "text": [
      "Not setting metadata\n",
      "145 matching events found\n",
      "No baseline correction applied\n",
      "0 projection items activated\n"
     ]
    },
    {
     "data": {
      "text/plain": [
       "[<Figure size 640x480 with 4 Axes>]"
      ]
     },
     "execution_count": 24,
     "metadata": {},
     "output_type": "execute_result"
    }
   ],
   "source": [
    "epochs['Auditory'].plot_image(picks=[9])"
   ]
  },
  {
   "cell_type": "code",
   "execution_count": 25,
   "id": "6cfaf3c4-3ed9-4f7f-b9db-40d11b1f46bc",
   "metadata": {},
   "outputs": [],
   "source": [
    "# equalize_event_counts()\n",
    "# epochs.save()"
   ]
  },
  {
   "cell_type": "code",
   "execution_count": 26,
   "id": "7d5a0070-8847-46ff-9ee1-39eb1d8395de",
   "metadata": {},
   "outputs": [
    {
     "name": "stdout",
     "output_type": "stream",
     "text": [
      "Not setting metadata\n",
      "320 matching events found\n",
      "Setting baseline interval to [-0.49948803289596966, 0.0] sec\n",
      "Applying baseline correction (mode: mean)\n",
      "0 projection items activated\n",
      "Using data from preloaded Raw for 320 events and 1202 original time points ...\n",
      "0 bad epochs dropped\n"
     ]
    }
   ],
   "source": [
    "epochs_for_tfr = mne.Epochs(raw, events, event_id=event_ids, tmin=-.5, tmax=1.5, preload=True)"
   ]
  },
  {
   "cell_type": "code",
   "execution_count": 37,
   "id": "41dc1b14-741e-435b-962e-114fc16f99a4",
   "metadata": {},
   "outputs": [
    {
     "name": "stdout",
     "output_type": "stream",
     "text": [
      "You seem to have overlapping epochs. Some event lines may be duplicated in the plot.\n"
     ]
    },
    {
     "data": {
      "text/plain": [
       "<mne_qt_browser._pg_figure.MNEQtBrowser at 0x7f140458d750>"
      ]
     },
     "execution_count": 37,
     "metadata": {},
     "output_type": "execute_result"
    },
    {
     "name": "stdout",
     "output_type": "stream",
     "text": [
      "Dropped 0 epochs: \n",
      "The following epochs were marked as bad and are dropped:\n",
      "[]\n",
      "Channels marked as bad:\n",
      "none\n"
     ]
    }
   ],
   "source": [
    "epochs_for_tfr.plot(events=events, event_id=event_ids)"
   ]
  },
  {
   "cell_type": "code",
   "execution_count": 36,
   "id": "f8015590-ec7f-498f-a4dd-60ed4f3c3b9b",
   "metadata": {},
   "outputs": [
    {
     "name": "stdout",
     "output_type": "stream",
     "text": [
      "Applying ICA to Epochs instance\n"
     ]
    },
    {
     "name": "stderr",
     "output_type": "stream",
     "text": [
      "/tmp/ipykernel_7364/1209085046.py:1: RuntimeWarning: The data you passed to ICA.apply() was baseline-corrected. Please note that ICA can introduce DC shifts, therefore you may wish to consider baseline-correcting the cleaned data again.\n",
      "  epochs_for_tfr = ica.apply(epochs_for_tfr, exclude=ica.exclude)\n"
     ]
    },
    {
     "name": "stdout",
     "output_type": "stream",
     "text": [
      "    Transforming to ICA space (20 components)\n",
      "    Zeroing out 6 ICA components\n",
      "    Projecting back using 59 PCA components\n"
     ]
    }
   ],
   "source": [
    "epochs_for_tfr = ica.apply(epochs_for_tfr, exclude=ica.exclude)\n",
    "#epochs_for_tfr.save(\"epochs_test1.fif\")"
   ]
  },
  {
   "cell_type": "code",
   "execution_count": 42,
   "id": "12b4f381-0e32-4e81-a0c4-d522fb892e49",
   "metadata": {},
   "outputs": [
    {
     "name": "stdout",
     "output_type": "stream",
     "text": [
      "<class 'numpy.ndarray'> (319, 68, 421)\n"
     ]
    }
   ],
   "source": [
    "# Get data out for np array for example\n",
    "X = epochs.get_data()\n",
    "\n",
    "print(type(X), X.shape) # shape: (events, channels, time_points)"
   ]
  }
 ],
 "metadata": {
  "kernelspec": {
   "display_name": "Python 3 (ipykernel)",
   "language": "python",
   "name": "python3"
  },
  "language_info": {
   "codemirror_mode": {
    "name": "ipython",
    "version": 3
   },
   "file_extension": ".py",
   "mimetype": "text/x-python",
   "name": "python",
   "nbconvert_exporter": "python",
   "pygments_lexer": "ipython3",
   "version": "3.10.8"
  }
 },
 "nbformat": 4,
 "nbformat_minor": 5
}
